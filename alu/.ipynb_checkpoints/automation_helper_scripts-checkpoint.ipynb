{
 "cells": [
  {
   "cell_type": "markdown",
   "metadata": {},
   "source": [
    "### Helper Scripts for programming automated testing for a 32-bit ALU on the FPGA\n",
    "\n",
    "Below are the scripts used to generate the repeated portions of the alu_auto_tester module:"
   ]
  },
  {
   "cell_type": "code",
   "execution_count": 7,
   "metadata": {},
   "outputs": [],
   "source": [
    "def instantiate_states(no_states):\n",
    "    tests = \"\"\n",
    "    \n",
    "    for i in range(no_states):\n",
    "        tests += f\", TEST_{i}\"\n",
    "    \n",
    "    return \"enum AutoStates {STANDBY\" + tests + \"}\""
   ]
  },
  {
   "cell_type": "code",
   "execution_count": 9,
   "metadata": {},
   "outputs": [
    {
     "data": {
      "text/plain": [
       "'enum AutoStates {STANDBY, TEST_0}'"
      ]
     },
     "execution_count": 9,
     "metadata": {},
     "output_type": "execute_result"
    }
   ],
   "source": [
    "instantiate_states(1)"
   ]
  },
  {
   "cell_type": "code",
   "execution_count": 11,
   "metadata": {},
   "outputs": [],
   "source": [
    "def instantiate_tester (test_no, input_a, input_b, opcode, expected):\n",
    "    return f\"            alu_statement_tester test_{test_no} (#INPUT_A(32h{input_a}), #INPUT_B(32h{input_b}), #ALUCODE(6b{opcode}), #EXPECTED(32h{expected}))\""
   ]
  },
  {
   "cell_type": "code",
   "execution_count": 13,
   "metadata": {},
   "outputs": [],
   "source": [
    "def state_case(state_no, is_final):\n",
    "    output = \"\"\n",
    "    output += f\"            AutoStates.TEST_{state_no}:\\n\"\n",
    "    output += f\"                io_segment = test_{state_no}.io_segment\\n\"\n",
    "    output += f\"                io_select = test_{state_no}.io_select\\n\"\n",
    "    output += f\"                alucode_led = test_{state_no}.alucode_led\\n\"\n",
    "    output += f\"                led = test_{state_no}.led\\n\"\n",
    "    output += f\"                test_{state_no}.start = 1\\n\"\n",
    "    output += f\"                if(test_{state_no}.done)\\n\"\n",
    "    if (is_final):\n",
    "        output += f\"                    states.d = AutoStates.STANDBY\"\n",
    "    else:\n",
    "        output += f\"                    states.d = AutoStates.TEST_{state_no + 1}\"\n",
    "    \n",
    "    return output"
   ]
  },
  {
   "cell_type": "code",
   "execution_count": 15,
   "metadata": {},
   "outputs": [
    {
     "name": "stdout",
     "output_type": "stream",
     "text": [
      "            AutoStates.TEST_1:\n",
      "                io_segment = test_1.io_segment\n",
      "                io_select = test_1.io_select\n",
      "                alucode_led = test_1.alucode_led\n",
      "                led = test_1.led\n",
      "                test_1.start = 1\n",
      "                if(test_1.done)\n",
      "                    states.d = AutoStates.TEST_2\n"
     ]
    }
   ],
   "source": [
    "print(state_case(1,False))"
   ]
  },
  {
   "cell_type": "markdown",
   "metadata": {},
   "source": [
    "### Test Cases\n",
    "Test cases are in the format (a_input, b_input, opcode, expected_output):"
   ]
  },
  {
   "cell_type": "code",
   "execution_count": 53,
   "metadata": {},
   "outputs": [],
   "source": [
    "test_cases = [\n",
    "    # (\"abcd1234\", \"00000000\", \"000000\", \"abcd1234\"),  # ADD: Zero Addition A + 0  \n",
    "    # (\"00000000\", \"abcd1234\", \"000000\", \"abcd1234\"),  # ADD: Zero Addition 0 + A  \n",
    "    # (\"12345678\", \"23456789\", \"000000\", \"3579be01\"),  # ADD: Positive Numbers  \n",
    "    # (\"7fffffff\", \"7fffffff\", \"000000\", \"fffffffe\"),  # ADD: Overflow  \n",
    "    \n",
    "    # (\"abcd1234\", \"00000000\", \"000001\", \"abcd1234\"),  # SUB: Zero Subtraction A - 0  \n",
    "    # (\"00000000\", \"abcd1234\", \"000001\", \"5432edcc\"),  # SUB: Zero Subtraction 0 - A  \n",
    "    # (\"00000000\", \"7fffffff\", \"000001\", \"80000001\"),  # SUB: Boundary Value\n",
    "    \n",
    "    # (\"abcd1234\", \"00000000\", \"000010\", \"00000000\"),  # MUL: Zero Multiplication  \n",
    "    # (\"abcd1234\", \"00000001\", \"000010\", \"abcd1234\"),  # MUL: Multiplication by One  \n",
    "    # (\"0000000A\", \"ffffffff\", \"000010\", \"fffffff6\"),  # MUL: Multiplciation (Positive) by Minus One\n",
    "    # (\"00001234\", \"00005678\", \"000010\", \"06260060\"),  # MUL: Positive Numbers\n",
    "    # (\"fffffff4\", \"fffffff6\", \"000010\", \"00000014\"),  # MUL: Negative Numbers\n",
    "\n",
    "    # (\"00000001\", \"00000000\", \"000100\", \"00000000\"),  # DIV: Division by 0\n",
    "    # (\"abcd1234\", \"00000001\", \"000100\", \"abcd1234\"),  # DIV: Division by 1   \n",
    "    # (\"00001234\", \"00000005\", \"000100\", \"000003a4\"),  # DIV: Small number division  \n",
    "    # (\"7ffffff2\", \"00000002\", \"000100\", \"3ffffff9\"),  # DIV: Large positive number   \n",
    "    # (\"00000000\", \"12345678\", \"000100\", \"00000000\"),  # DIV: Zero divided by a number\n",
    "\n",
    "    # (\"00000001\", \"00000000\", \"000110\", \"00000000\"),  # DIV: Division by 0\n",
    "    # (\"abcd1234\", \"00000001\", \"000110\", \"00000000\"),  # DIV: Division by 1\n",
    "    # (\"00001234\", \"00000007\", \"000110\", \"00000005\"),  # MOD: Small number modulo  \n",
    "    # (\"7fffffff\", \"00000008\", \"000110\", \"00000007\"),  # MOD: Large positive number   \n",
    "    # (\"00000000\", \"12345678\", \"000110\", \"00000000\"),  # MOD: Zero modulo\n",
    "    \n",
    "    # (\"abcd1234\", \"00000000\", \"011000\", \"00000000\"),  # AND: All Zeros  \n",
    "    # (\"abcd1234\", \"ffffffff\", \"011000\", \"abcd1234\"),  # AND: All Ones  \n",
    "    # (\"abcd1234\", \"abcd1234\", \"011000\", \"abcd1234\"),  # AND: Identity Check\n",
    "    # (\"ffffffff\", \"00000000\", \"011000\", \"00000000\"),  # AND: Complementary Check\n",
    "    \n",
    "    # (\"abcd1234\", \"00000000\", \"011110\", \"abcd1234\"),  # OR: All Zeros  \n",
    "    # (\"abcd1234\", \"ffffffff\", \"011110\", \"ffffffff\"),  # OR: All Ones\n",
    "    # (\"abcd1234\", \"abcd1234\", \"011110\", \"abcd1234\"),  # OR: Identity Check\n",
    "    \n",
    "    # (\"abcd1234\", \"00000000\", \"010110\", \"abcd1234\"),  # XOR: Identity Check  \n",
    "    # (\"abcd1234\", \"abcd1234\", \"010110\", \"00000000\"),  # XOR: Self-XOR\n",
    "    # (\"ffffffff\", \"00000000\", \"010110\", \"ffffffff\"),  # XOR: Complementary Check\n",
    "    \n",
    "    # (\"abcd1234\", \"00000000\", \"011010\", \"abcd1234\"),  # LDR: Load Function  \n",
    "    # (\"ef425678\", \"00000000\", \"011010\", \"ef425678\"),  # LDR: Load Function\n",
    "    # (\"cd426789\", \"00000000\", \"011010\", \"cd426789\"),  # LDR: Load Function\n",
    "    \n",
    "    # (\"abcd1234\", \"00000000\", \"100000\", \"abcd1234\"),  # SHL: Zero Shift  \n",
    "    # (\"00000001\", \"0000001f\", \"100000\", \"80000000\"),  # SHL: Maximum Shift  \n",
    "    \n",
    "    # (\"abcd1234\", \"00000000\", \"100001\", \"abcd1234\"),  # SHR: Zero Shift  \n",
    "    # (\"80000000\", \"0000001f\", \"100001\", \"00000001\"),  # SHR: Maximum Shift\n",
    "    \n",
    "    # (\"abcd1234\", \"00000000\", \"100011\", \"abcd1234\"),  # SRA: Zero Shift  \n",
    "    # (\"80000000\", \"0000001f\", \"100011\", \"ffffffff\"),  # SRA: Arithmetic Right Shift\n",
    "    \n",
    "    # (\"abcd1234\", \"abcd1234\", \"110011\", \"00000001\"),  # CMPEQ: Equality  \n",
    "    # (\"abcd1234\", \"ef421234\", \"110011\", \"00000000\"),  # CMPEQ: Inequality  \n",
    "    \n",
    "    # (\"abcd1234\", \"ef421234\", \"110101\", \"00000001\"),  # CMPLT: Less Than\n",
    "    # (\"abcd1234\", \"abcd1234\", \"110101\", \"00000000\"),  # CMPLT: Equal\n",
    "    # (\"ef421234\", \"abcd1234\", \"110101\", \"00000000\"),  # CMPLT: Greater Than\n",
    "\n",
    "    # (\"abcd1234\", \"ef421234\", \"110101\", \"00000001\"),  # CMPLE: Less Than\n",
    "    # (\"abcd1234\", \"abcd1234\", \"110111\", \"00000001\"),  # CMPLE: Equal  \n",
    "    # (\"ef421234\", \"abcd1234\", \"110111\", \"00000000\")  # CMPLE: Greater Than\n",
    "]"
   ]
  },
  {
   "cell_type": "markdown",
   "metadata": {},
   "source": [
    "Generate a list of states for alu_test_auto & instantiate the statement tester modules: "
   ]
  },
  {
   "cell_type": "code",
   "execution_count": 51,
   "metadata": {},
   "outputs": [
    {
     "name": "stdout",
     "output_type": "stream",
     "text": [
      "enum AutoStates {STANDBY, TEST_0, TEST_1, TEST_2, TEST_3, TEST_4}\n",
      "            alu_statement_tester test_0 (#INPUT_A(32h00000001), #INPUT_B(32h00000000), #ALUCODE(6b000110), #EXPECTED(32h00000000))\n",
      "            alu_statement_tester test_1 (#INPUT_A(32habcd1234), #INPUT_B(32h00000001), #ALUCODE(6b000110), #EXPECTED(32h00000000))\n",
      "            alu_statement_tester test_2 (#INPUT_A(32h00001234), #INPUT_B(32h00000007), #ALUCODE(6b000110), #EXPECTED(32h00000005))\n",
      "            alu_statement_tester test_3 (#INPUT_A(32h7fffffff), #INPUT_B(32h00000008), #ALUCODE(6b000110), #EXPECTED(32h00000007))\n",
      "            alu_statement_tester test_4 (#INPUT_A(32h00000000), #INPUT_B(32h12345678), #ALUCODE(6b000110), #EXPECTED(32h00000000))\n"
     ]
    }
   ],
   "source": [
    "l = len(test_cases)\n",
    "\n",
    "print(instantiate_states(l))\n",
    "\n",
    "for i in range(l):\n",
    "    print(instantiate_tester(i, test_cases[i][0], test_cases[i][1], test_cases[i][2], test_cases[i][3]))"
   ]
  },
  {
   "cell_type": "code",
   "execution_count": 43,
   "metadata": {
    "scrolled": true
   },
   "outputs": [
    {
     "name": "stdout",
     "output_type": "stream",
     "text": [
      "test_0.start = 0\n",
      "test_1.start = 0\n",
      "test_2.start = 0\n",
      "test_3.start = 0\n",
      "test_4.start = 0\n"
     ]
    }
   ],
   "source": [
    "l = len(test_cases)\n",
    "for i in range(l):\n",
    "    print(f\"test_{i}.start = 0\")"
   ]
  },
  {
   "cell_type": "markdown",
   "metadata": {},
   "source": [
    "Generate the states and state transitions for the alu_tester_auto:"
   ]
  },
  {
   "cell_type": "code",
   "execution_count": 45,
   "metadata": {},
   "outputs": [
    {
     "name": "stdout",
     "output_type": "stream",
     "text": [
      "            AutoStates.TEST_0:\n",
      "                io_segment = test_0.io_segment\n",
      "                io_select = test_0.io_select\n",
      "                alucode_led = test_0.alucode_led\n",
      "                led = test_0.led\n",
      "                test_0.start = 1\n",
      "                if(test_0.done)\n",
      "                    states.d = AutoStates.TEST_1\n",
      "\n",
      "            AutoStates.TEST_1:\n",
      "                io_segment = test_1.io_segment\n",
      "                io_select = test_1.io_select\n",
      "                alucode_led = test_1.alucode_led\n",
      "                led = test_1.led\n",
      "                test_1.start = 1\n",
      "                if(test_1.done)\n",
      "                    states.d = AutoStates.TEST_2\n",
      "\n",
      "            AutoStates.TEST_2:\n",
      "                io_segment = test_2.io_segment\n",
      "                io_select = test_2.io_select\n",
      "                alucode_led = test_2.alucode_led\n",
      "                led = test_2.led\n",
      "                test_2.start = 1\n",
      "                if(test_2.done)\n",
      "                    states.d = AutoStates.TEST_3\n",
      "\n",
      "            AutoStates.TEST_3:\n",
      "                io_segment = test_3.io_segment\n",
      "                io_select = test_3.io_select\n",
      "                alucode_led = test_3.alucode_led\n",
      "                led = test_3.led\n",
      "                test_3.start = 1\n",
      "                if(test_3.done)\n",
      "                    states.d = AutoStates.TEST_4\n",
      "\n",
      "            AutoStates.TEST_4:\n",
      "                io_segment = test_4.io_segment\n",
      "                io_select = test_4.io_select\n",
      "                alucode_led = test_4.alucode_led\n",
      "                led = test_4.led\n",
      "                test_4.start = 1\n",
      "                if(test_4.done)\n",
      "                    states.d = AutoStates.STANDBY\n"
     ]
    }
   ],
   "source": [
    "l = len(test_cases)\n",
    "for i in range(l-1):\n",
    "    print(state_case(i,False))\n",
    "    print()\n",
    "\n",
    "print(state_case(l-1, True))"
   ]
  }
 ],
 "metadata": {
  "kernelspec": {
   "display_name": "Python 3 (ipykernel)",
   "language": "python",
   "name": "python3"
  },
  "language_info": {
   "codemirror_mode": {
    "name": "ipython",
    "version": 3
   },
   "file_extension": ".py",
   "mimetype": "text/x-python",
   "name": "python",
   "nbconvert_exporter": "python",
   "pygments_lexer": "ipython3",
   "version": "3.12.4"
  }
 },
 "nbformat": 4,
 "nbformat_minor": 4
}
